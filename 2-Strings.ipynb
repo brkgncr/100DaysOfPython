{
 "cells": [
  {
   "cell_type": "code",
   "execution_count": 1,
   "id": "c0830dea-3187-40c5-ad25-f05cd33e8642",
   "metadata": {},
   "outputs": [
    {
     "data": {
      "text/plain": [
       "'hello world'"
      ]
     },
     "execution_count": 1,
     "metadata": {},
     "output_type": "execute_result"
    }
   ],
   "source": [
    "\"hello world\""
   ]
  },
  {
   "cell_type": "code",
   "execution_count": 2,
   "id": "a959e1f4-9c68-4120-88fb-828989c3cce7",
   "metadata": {},
   "outputs": [
    {
     "name": "stdout",
     "output_type": "stream",
     "text": [
      "hello python\n"
     ]
    }
   ],
   "source": [
    "print(\"hello python\")"
   ]
  },
  {
   "cell_type": "code",
   "execution_count": 3,
   "id": "69546f07-a302-44a2-9297-86dc264fcbd4",
   "metadata": {},
   "outputs": [],
   "source": [
    "name = \"atıl\""
   ]
  },
  {
   "cell_type": "code",
   "execution_count": 4,
   "id": "3d980727-31e7-44b5-b46d-925e0b837799",
   "metadata": {},
   "outputs": [
    {
     "data": {
      "text/plain": [
       "str"
      ]
     },
     "execution_count": 4,
     "metadata": {},
     "output_type": "execute_result"
    }
   ],
   "source": [
    "type(name)"
   ]
  },
  {
   "cell_type": "code",
   "execution_count": 5,
   "id": "abe0c75b-a0f2-44a0-9e98-79546256f463",
   "metadata": {},
   "outputs": [
    {
     "data": {
      "text/plain": [
       "'atil restaurant'"
      ]
     },
     "execution_count": 5,
     "metadata": {},
     "output_type": "execute_result"
    }
   ],
   "source": [
    "'atil restaurant'"
   ]
  },
  {
   "cell_type": "code",
   "execution_count": 6,
   "id": "5443d9c5-8a9e-4e5b-baba-59f9fa0f32a0",
   "metadata": {},
   "outputs": [
    {
     "data": {
      "text/plain": [
       "'atil restaurant'"
      ]
     },
     "execution_count": 6,
     "metadata": {},
     "output_type": "execute_result"
    }
   ],
   "source": [
    "\"atil restaurant\""
   ]
  },
  {
   "cell_type": "code",
   "execution_count": 7,
   "id": "6a6be21a-901d-4f75-91f5-b1cf72f1332b",
   "metadata": {},
   "outputs": [
    {
     "data": {
      "text/plain": [
       "\"atil's restaurant\""
      ]
     },
     "execution_count": 7,
     "metadata": {},
     "output_type": "execute_result"
    }
   ],
   "source": [
    "\"atil's restaurant\""
   ]
  },
  {
   "cell_type": "code",
   "execution_count": 10,
   "id": "f1b6425f-9c61-4369-a6c7-eaabb20a15c9",
   "metadata": {},
   "outputs": [],
   "source": [
    "name = \"atil\""
   ]
  },
  {
   "cell_type": "code",
   "execution_count": 11,
   "id": "db33d108-4e20-49f5-a711-2866e2978382",
   "metadata": {},
   "outputs": [
    {
     "data": {
      "text/plain": [
       "str"
      ]
     },
     "execution_count": 11,
     "metadata": {},
     "output_type": "execute_result"
    }
   ],
   "source": [
    "type(name)"
   ]
  },
  {
   "cell_type": "code",
   "execution_count": 12,
   "id": "490e5577-0b49-4c58-8c7e-31ee28ce03b9",
   "metadata": {},
   "outputs": [],
   "source": [
    "name = \"atil samancioglu\""
   ]
  },
  {
   "cell_type": "code",
   "execution_count": 13,
   "id": "aa717b01-2033-49cd-b733-5a542975b787",
   "metadata": {},
   "outputs": [
    {
     "data": {
      "text/plain": [
       "'Atil samancioglu'"
      ]
     },
     "execution_count": 13,
     "metadata": {},
     "output_type": "execute_result"
    }
   ],
   "source": [
    "name.capitalize()"
   ]
  },
  {
   "cell_type": "code",
   "execution_count": 14,
   "id": "dac7bce3-1f13-4e32-b9cd-bd85ff506bbf",
   "metadata": {},
   "outputs": [
    {
     "data": {
      "text/plain": [
       "<function str.capitalize()>"
      ]
     },
     "execution_count": 14,
     "metadata": {},
     "output_type": "execute_result"
    }
   ],
   "source": [
    "name.capitalize"
   ]
  },
  {
   "cell_type": "code",
   "execution_count": 15,
   "id": "864a4720-7642-4d89-a4dc-c9158c7ce209",
   "metadata": {},
   "outputs": [],
   "source": [
    "x = 10"
   ]
  },
  {
   "cell_type": "code",
   "execution_count": 16,
   "id": "bbf6fc37-15b2-4b7b-8f1f-ba6a2614c1fa",
   "metadata": {},
   "outputs": [
    {
     "name": "stdout",
     "output_type": "stream",
     "text": [
      "Help on built-in function count:\n",
      "\n",
      "count(...) method of builtins.str instance\n",
      "    S.count(sub[, start[, end]]) -> int\n",
      "\n",
      "    Return the number of non-overlapping occurrences of substring sub in\n",
      "    string S[start:end].  Optional arguments start and end are\n",
      "    interpreted as in slice notation.\n",
      "\n"
     ]
    }
   ],
   "source": [
    "help(name.count)"
   ]
  },
  {
   "cell_type": "code",
   "execution_count": 17,
   "id": "884d25f4-62e8-4ac9-9740-8f4b792060e8",
   "metadata": {},
   "outputs": [
    {
     "name": "stdout",
     "output_type": "stream",
     "text": [
      "Help on built-in function capitalize:\n",
      "\n",
      "capitalize() method of builtins.str instance\n",
      "    Return a capitalized version of the string.\n",
      "\n",
      "    More specifically, make the first character have upper case and the rest lower\n",
      "    case.\n",
      "\n"
     ]
    }
   ],
   "source": [
    "help(name.capitalize)"
   ]
  },
  {
   "cell_type": "code",
   "execution_count": 18,
   "id": "6d40a857-4f1c-437d-82ad-685ee494f848",
   "metadata": {},
   "outputs": [
    {
     "data": {
      "text/plain": [
       "'atil samancioglu'"
      ]
     },
     "execution_count": 18,
     "metadata": {},
     "output_type": "execute_result"
    }
   ],
   "source": [
    "name"
   ]
  },
  {
   "cell_type": "code",
   "execution_count": 20,
   "id": "b7373eea-746c-414b-b012-6e8504fe2b3a",
   "metadata": {},
   "outputs": [
    {
     "data": {
      "text/plain": [
       "3"
      ]
     },
     "execution_count": 20,
     "metadata": {},
     "output_type": "execute_result"
    }
   ],
   "source": [
    "name.count(\"a\")"
   ]
  },
  {
   "cell_type": "code",
   "execution_count": 21,
   "id": "d714d8ba-3fed-4fba-a159-9dc3aadda0a0",
   "metadata": {},
   "outputs": [
    {
     "data": {
      "text/plain": [
       "0"
      ]
     },
     "execution_count": 21,
     "metadata": {},
     "output_type": "execute_result"
    }
   ],
   "source": [
    "name.count(\"b\")"
   ]
  },
  {
   "cell_type": "code",
   "execution_count": 22,
   "id": "e122b328-bfd5-4213-a625-06beddf10a98",
   "metadata": {},
   "outputs": [
    {
     "data": {
      "text/plain": [
       "'ATIL SAMANCIOGLU'"
      ]
     },
     "execution_count": 22,
     "metadata": {},
     "output_type": "execute_result"
    }
   ],
   "source": [
    "name.upper()"
   ]
  },
  {
   "cell_type": "code",
   "execution_count": 23,
   "id": "bc755ee6-61d3-451b-8173-e00426ff69bc",
   "metadata": {},
   "outputs": [
    {
     "data": {
      "text/plain": [
       "'atil samancioglu'"
      ]
     },
     "execution_count": 23,
     "metadata": {},
     "output_type": "execute_result"
    }
   ],
   "source": [
    "name"
   ]
  },
  {
   "cell_type": "code",
   "execution_count": 24,
   "id": "5ed48b21-9f1f-4d0d-ae97-0bc61aad9580",
   "metadata": {},
   "outputs": [],
   "source": [
    "x = 10\n",
    "y = 5"
   ]
  },
  {
   "cell_type": "code",
   "execution_count": 25,
   "id": "1f61147b-26b4-4532-b1d2-f8246bcd9673",
   "metadata": {},
   "outputs": [
    {
     "data": {
      "text/plain": [
       "15"
      ]
     },
     "execution_count": 25,
     "metadata": {},
     "output_type": "execute_result"
    }
   ],
   "source": [
    "x + y"
   ]
  },
  {
   "cell_type": "code",
   "execution_count": 26,
   "id": "bb551c85-ca03-489d-a1a3-5a9628674b22",
   "metadata": {},
   "outputs": [],
   "source": [
    "z = x + y"
   ]
  },
  {
   "cell_type": "code",
   "execution_count": 27,
   "id": "27b69111-e38f-4539-8d2b-ff1cfede4f30",
   "metadata": {},
   "outputs": [
    {
     "data": {
      "text/plain": [
       "15"
      ]
     },
     "execution_count": 27,
     "metadata": {},
     "output_type": "execute_result"
    }
   ],
   "source": [
    "z"
   ]
  },
  {
   "cell_type": "code",
   "execution_count": 28,
   "id": "32fd89d5-0aca-46a1-8a29-39e1906d2ac7",
   "metadata": {},
   "outputs": [
    {
     "data": {
      "text/plain": [
       "'atil samancioglu'"
      ]
     },
     "execution_count": 28,
     "metadata": {},
     "output_type": "execute_result"
    }
   ],
   "source": [
    "name"
   ]
  },
  {
   "cell_type": "code",
   "execution_count": 33,
   "id": "9129f7a8-e174-448f-acca-d299e591a4cf",
   "metadata": {},
   "outputs": [],
   "source": [
    "nameUpper = name.upper()"
   ]
  },
  {
   "cell_type": "code",
   "execution_count": 34,
   "id": "6da1177c-6492-4edb-896c-0ce025cccff6",
   "metadata": {},
   "outputs": [
    {
     "data": {
      "text/plain": [
       "'ATIL SAMANCIOGLU'"
      ]
     },
     "execution_count": 34,
     "metadata": {},
     "output_type": "execute_result"
    }
   ],
   "source": [
    "nameUpper"
   ]
  },
  {
   "cell_type": "code",
   "execution_count": 35,
   "id": "1c3e15a1-52b1-455d-af58-5bd412c1e88f",
   "metadata": {},
   "outputs": [
    {
     "data": {
      "text/plain": [
       "'atil samancioglu'"
      ]
     },
     "execution_count": 35,
     "metadata": {},
     "output_type": "execute_result"
    }
   ],
   "source": [
    "name"
   ]
  },
  {
   "cell_type": "code",
   "execution_count": 36,
   "id": "ce8f2c7e-1c67-47b3-a934-2514841d70d4",
   "metadata": {},
   "outputs": [
    {
     "name": "stdout",
     "output_type": "stream",
     "text": [
      "ATIL SAMANCIOGLU\n"
     ]
    }
   ],
   "source": [
    "print(name.upper())"
   ]
  },
  {
   "cell_type": "code",
   "execution_count": 37,
   "id": "328e5383-3b34-4839-adb5-67de23a52ca4",
   "metadata": {},
   "outputs": [
    {
     "name": "stdout",
     "output_type": "stream",
     "text": [
      "Help on built-in function upper:\n",
      "\n",
      "upper() method of builtins.str instance\n",
      "    Return a copy of the string converted to uppercase.\n",
      "\n"
     ]
    }
   ],
   "source": [
    "help(name.upper)"
   ]
  },
  {
   "cell_type": "code",
   "execution_count": 38,
   "id": "91eefede-c7b0-4077-8562-5d6685966d5c",
   "metadata": {},
   "outputs": [
    {
     "data": {
      "text/plain": [
       "16"
      ]
     },
     "execution_count": 38,
     "metadata": {},
     "output_type": "execute_result"
    }
   ],
   "source": [
    "len(name) # length"
   ]
  },
  {
   "cell_type": "code",
   "execution_count": 39,
   "id": "ee5e7d9c-1634-4d33-abc7-218c29af1410",
   "metadata": {},
   "outputs": [
    {
     "name": "stdout",
     "output_type": "stream",
     "text": [
      "atil samancioglu\n"
     ]
    }
   ],
   "source": [
    "print(\"atil samancioglu\")"
   ]
  },
  {
   "cell_type": "code",
   "execution_count": 40,
   "id": "cad864b3-2350-4b48-9e04-6294adc0a9ab",
   "metadata": {},
   "outputs": [
    {
     "name": "stdout",
     "output_type": "stream",
     "text": [
      "atil \n",
      "samancioglu\n"
     ]
    }
   ],
   "source": [
    "print(\"atil \\nsamancioglu\")"
   ]
  },
  {
   "cell_type": "code",
   "execution_count": 41,
   "id": "0a8878ac-cc8e-42be-b4d2-3403288f1f89",
   "metadata": {},
   "outputs": [],
   "source": [
    "# \\n -> new line"
   ]
  },
  {
   "cell_type": "code",
   "execution_count": 42,
   "id": "e79175db-ef51-41a9-8cac-d62d1969284e",
   "metadata": {},
   "outputs": [],
   "source": [
    "# escape characters"
   ]
  },
  {
   "cell_type": "code",
   "execution_count": 43,
   "id": "213eedab-79f8-4cab-924b-4992eb20251a",
   "metadata": {},
   "outputs": [],
   "source": [
    "# \\t -> tab"
   ]
  },
  {
   "cell_type": "code",
   "execution_count": 44,
   "id": "93b96c8f-6ffa-4a5a-95f0-9cb18353f5ef",
   "metadata": {},
   "outputs": [
    {
     "name": "stdout",
     "output_type": "stream",
     "text": [
      "atil \tsamancioglu\n"
     ]
    }
   ],
   "source": [
    "print(\"atil \\tsamancioglu\")"
   ]
  },
  {
   "cell_type": "code",
   "execution_count": null,
   "id": "b5c566be-bfdc-4d68-9a94-d870da340487",
   "metadata": {},
   "outputs": [],
   "source": []
  }
 ],
 "metadata": {
  "kernelspec": {
   "display_name": "Python 3 (ipykernel)",
   "language": "python",
   "name": "python3"
  },
  "language_info": {
   "codemirror_mode": {
    "name": "ipython",
    "version": 3
   },
   "file_extension": ".py",
   "mimetype": "text/x-python",
   "name": "python",
   "nbconvert_exporter": "python",
   "pygments_lexer": "ipython3",
   "version": "3.12.7"
  }
 },
 "nbformat": 4,
 "nbformat_minor": 5
}
